{
 "cells": [
  {
   "cell_type": "code",
   "execution_count": 20,
   "metadata": {},
   "outputs": [],
   "source": [
    "import datetime\n",
    "import json\n",
    "from pathlib import Path\n",
    "import importlib\n",
    "\n",
    "from lxml import etree\n",
    "from nameparser import HumanName\n",
    "\n",
    "import doi\n",
    "import voyager"
   ]
  },
  {
   "cell_type": "code",
   "execution_count": 36,
   "metadata": {},
   "outputs": [],
   "source": [
    "with open(\"all_matched_up.json\", \"r\", encoding=\"utf8\") as fh:\n",
    "    matches = json.load(fh)"
   ]
  },
  {
   "cell_type": "code",
   "execution_count": 4,
   "metadata": {},
   "outputs": [],
   "source": [
    "articles = [etree.HTML(open(p, \"r\", encoding=\"utf8\").read()) for p in Path(\"air_pages/\").glob(\"*.html\")]\n",
    "idnums = [p.name.split(\".\")[0] for p in Path(\"air_pages/\").glob(\"*.html\")]\n",
    "        \n",
    "    "
   ]
  },
  {
   "cell_type": "code",
   "execution_count": 5,
   "metadata": {},
   "outputs": [],
   "source": [
    "contributors = voyager.get_article_contributors_from_etrees(articles)"
   ]
  },
  {
   "cell_type": "code",
   "execution_count": 23,
   "metadata": {},
   "outputs": [
    {
     "data": {
      "text/plain": [
       "['2011',\n",
       " '2011',\n",
       " '2011',\n",
       " '2011',\n",
       " '2011',\n",
       " '2011',\n",
       " '2011',\n",
       " '2011',\n",
       " '2011',\n",
       " '2011',\n",
       " '2011',\n",
       " '2011',\n",
       " '2011',\n",
       " '2011',\n",
       " '2011',\n",
       " '2011',\n",
       " '2011',\n",
       " '2011',\n",
       " '2011',\n",
       " '2011',\n",
       " '2011',\n",
       " '2011',\n",
       " '2011',\n",
       " '2011',\n",
       " '2011']"
      ]
     },
     "execution_count": 23,
     "metadata": {},
     "output_type": "execute_result"
    }
   ],
   "source": [
    "years = voyager.get_article_publication_years_from_etrees(articles)\n",
    "years[:25]"
   ]
  },
  {
   "cell_type": "code",
   "execution_count": 27,
   "metadata": {},
   "outputs": [],
   "source": [
    "def contributors_to_crossref(contributors):\n",
    "    formatted_contributors = []\n",
    "    for c in contributors:\n",
    "        name = HumanName(c.split(\"(\")[0])\n",
    "        crossref_name = {\"given_name\": \" \".join([name.first, name.middle]).strip(), \"surname\": name.last}\n",
    "        formatted_contributors.append(crossref_name)\n",
    "        \n",
    "    return formatted_contributors"
   ]
  },
  {
   "cell_type": "code",
   "execution_count": 28,
   "metadata": {},
   "outputs": [],
   "source": [
    "fc = [contributors_to_crossref(c) for c in contributors]"
   ]
  },
  {
   "cell_type": "code",
   "execution_count": 29,
   "metadata": {},
   "outputs": [
    {
     "data": {
      "text/plain": [
       "[{'given_name': 'John F.', 'surname': 'Patience'},\n",
       " {'given_name': 'Amanda', 'surname': 'Chipman'}]"
      ]
     },
     "execution_count": 29,
     "metadata": {},
     "output_type": "execute_result"
    }
   ],
   "source": [
    "fc[0]"
   ]
  },
  {
   "cell_type": "code",
   "execution_count": 30,
   "metadata": {},
   "outputs": [
    {
     "data": {
      "text/plain": [
       "1442"
      ]
     },
     "execution_count": 30,
     "metadata": {},
     "output_type": "execute_result"
    }
   ],
   "source": [
    "len(idnums)"
   ]
  },
  {
   "cell_type": "code",
   "execution_count": 31,
   "metadata": {},
   "outputs": [
    {
     "data": {
      "text/plain": [
       "1442"
      ]
     },
     "execution_count": 31,
     "metadata": {},
     "output_type": "execute_result"
    }
   ],
   "source": [
    "len(contributors)"
   ]
  },
  {
   "cell_type": "code",
   "execution_count": 32,
   "metadata": {},
   "outputs": [
    {
     "data": {
      "text/plain": [
       "1442"
      ]
     },
     "execution_count": 32,
     "metadata": {},
     "output_type": "execute_result"
    }
   ],
   "source": [
    "len(fc)"
   ]
  },
  {
   "cell_type": "code",
   "execution_count": 33,
   "metadata": {},
   "outputs": [],
   "source": [
    "icy = list(zip(idnums, fc, years))"
   ]
  },
  {
   "cell_type": "code",
   "execution_count": 34,
   "metadata": {},
   "outputs": [
    {
     "data": {
      "text/plain": [
       "('5635',\n",
       " [{'given_name': 'John F.', 'surname': 'Patience'},\n",
       "  {'given_name': 'Amanda', 'surname': 'Chipman'}],\n",
       " '2011')"
      ]
     },
     "execution_count": 34,
     "metadata": {},
     "output_type": "execute_result"
    }
   ],
   "source": [
    "icy[0]"
   ]
  },
  {
   "cell_type": "code",
   "execution_count": 37,
   "metadata": {},
   "outputs": [
    {
     "data": {
      "text/plain": [
       "['Carbon Monoxide Packaging for Fresh Pork',\n",
       " 'Carbon Monoxide Packaging for Fresh Pork',\n",
       " 'ASL R1848',\n",
       " 'ASL R1848',\n",
       " 'https://doi.org/10.31274/ans_air-180814-70',\n",
       " 'https://www.iastatedigitalpress.com/air/article/id/6401/']"
      ]
     },
     "execution_count": 37,
     "metadata": {},
     "output_type": "execute_result"
    }
   ],
   "source": [
    "matches[0]"
   ]
  },
  {
   "cell_type": "code",
   "execution_count": 38,
   "metadata": {},
   "outputs": [],
   "source": [
    "for i in icy:\n",
    "    for x, m in enumerate(matches):\n",
    "        if i[0] in m[-1]:\n",
    "            matches[x].extend(i[1:])\n",
    "            break\n",
    "            "
   ]
  },
  {
   "cell_type": "code",
   "execution_count": 39,
   "metadata": {},
   "outputs": [
    {
     "data": {
      "text/plain": [
       "['Carbon Monoxide Packaging for Fresh Pork',\n",
       " 'Carbon Monoxide Packaging for Fresh Pork',\n",
       " 'ASL R1848',\n",
       " 'ASL R1848',\n",
       " 'https://doi.org/10.31274/ans_air-180814-70',\n",
       " 'https://www.iastatedigitalpress.com/air/article/id/6401/',\n",
       " [{'given_name': 'Travis R.', 'surname': 'Krause'},\n",
       "  {'given_name': 'Joseph G.', 'surname': 'Sebranek'},\n",
       "  {'given_name': 'Mark S.', 'surname': 'Honeyman'}],\n",
       " '2004']"
      ]
     },
     "execution_count": 39,
     "metadata": {},
     "output_type": "execute_result"
    }
   ],
   "source": [
    "matches[0]"
   ]
  },
  {
   "cell_type": "code",
   "execution_count": 52,
   "metadata": {},
   "outputs": [],
   "source": [
    "importlib.reload(doi)\n",
    "root = doi.CrossrefXML()\n",
    "timestamp = datetime.datetime.now().strftime(\"%Y%m%d%H%M%S\")\n",
    "depositor = doi.Depositor(timestamp, timestamp)\n",
    "reports = [\n",
    "    doi.ItemMetadata(\n",
    "        contributors=m[6],\n",
    "        date={\"year\": m[7], \"month\": \"01\", \"day\": \"01\"},\n",
    "        doi=m[4][16:],\n",
    "        kind=\"report\",\n",
    "        media_type=\"online\",\n",
    "        resource=m[5],\n",
    "        title=m[0],\n",
    "    )\n",
    "    for m\n",
    "    in matches\n",
    "]"
   ]
  },
  {
   "cell_type": "code",
   "execution_count": 53,
   "metadata": {},
   "outputs": [],
   "source": [
    "root.insert_depositor(depositor.to_xml())\n",
    "for r in reports:\n",
    "    root.insert_item_metadata(r.to_xml())\n",
    "    \n",
    "with open(\"air_doi_update.xml\", \"w\", encoding=\"utf8\") as fh:\n",
    "    fh.write(\n",
    "        etree.tostring(\n",
    "            root.to_xml(), xml_declaration=True, encoding=\"UTF-8\", pretty_print=True\n",
    "        ).decode(\"utf-8\")\n",
    "    )\n",
    "    "
   ]
  },
  {
   "cell_type": "code",
   "execution_count": null,
   "metadata": {},
   "outputs": [],
   "source": []
  },
  {
   "cell_type": "code",
   "execution_count": null,
   "metadata": {},
   "outputs": [],
   "source": []
  }
 ],
 "metadata": {
  "kernelspec": {
   "display_name": "Python 3",
   "language": "python",
   "name": "python3"
  },
  "language_info": {
   "codemirror_mode": {
    "name": "ipython",
    "version": 3
   },
   "file_extension": ".py",
   "mimetype": "text/x-python",
   "name": "python",
   "nbconvert_exporter": "python",
   "pygments_lexer": "ipython3",
   "version": "3.8.0"
  }
 },
 "nbformat": 4,
 "nbformat_minor": 4
}
