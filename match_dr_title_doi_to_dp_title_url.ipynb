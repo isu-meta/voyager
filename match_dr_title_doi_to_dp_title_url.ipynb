{
 "cells": [
  {
   "cell_type": "code",
   "execution_count": 1,
   "metadata": {},
   "outputs": [],
   "source": [
    "from fuzzywuzzy import fuzz\n",
    "import re\n",
    "import json"
   ]
  },
  {
   "cell_type": "code",
   "execution_count": 10,
   "metadata": {},
   "outputs": [],
   "source": [
    "with open(\"air_matched.txt\", \"r\", encoding=\"utf8\") as fh:\n",
    "    matched = json.load(fh)"
   ]
  },
  {
   "cell_type": "code",
   "execution_count": 86,
   "metadata": {},
   "outputs": [
    {
     "name": "stdout",
     "output_type": "stream",
     "text": [
      "1395\n",
      "['Update from Animal Science Teaching Section', 'https://doi.org/10.31274/ans_air-180814-764']\n",
      "['Iowa State University Department of Animal Science Undergraduate Teaching Update', 'https://doi.org/10.31274/ans_air-190411-001']\n"
     ]
    }
   ],
   "source": [
    "with open(\"new_td.txt\", \"r\", encoding=\"utf8\") as fh:\n",
    "    td = [l.strip().split(\"\\t\") for l in fh]\n",
    "\n",
    "print(len(td))\n",
    "print(td[0])\n",
    "print(td[-1])\n",
    "#for i, r in enumerate(td):\n",
    "#    td[i][0] = r[0].strip('\"')"
   ]
  },
  {
   "cell_type": "code",
   "execution_count": 98,
   "metadata": {},
   "outputs": [
    {
     "name": "stdout",
     "output_type": "stream",
     "text": [
      "\n",
      "['Update from Animal Science Teaching Section', 'https://doi.org/10.31274/ans_air-180814-764']\n",
      "['Update from Animal Science Teaching Section', 'https://doi.org/10.31274/ans_air-180814-764', '']\n",
      "['Update from Animal Science Teaching Section', 'https://doi.org/10.31274/ans_air-180814-764', '']\n"
     ]
    }
   ],
   "source": [
    "with open(\"id_nums_dr.txt\", encoding=\"utf8\") as fh:\n",
    "    id_nums = [x.strip() for x in fh]\n",
    "\n",
    "\n",
    "print(id_nums[0])\n",
    "print(td[0])\n",
    "print(td[0] + [id_nums[0]])\n",
    "tdid = [x + [id_nums[i]] for i, x in enumerate(td)]\n",
    "print(tdid[0])"
   ]
  },
  {
   "cell_type": "code",
   "execution_count": 52,
   "metadata": {},
   "outputs": [],
   "source": [
    "with open(\"animal_industry_report.json\", \"r\", encoding=\"utf8\") as fh:\n",
    "    tu = json.load(fh)"
   ]
  },
  {
   "cell_type": "code",
   "execution_count": 104,
   "metadata": {},
   "outputs": [],
   "source": [
    "with open(\"dp_tuid.json\", \"r\", encoding=\"utf8\") as fh:\n",
    "    tuid = json.load(fh)"
   ]
  },
  {
   "cell_type": "code",
   "execution_count": 109,
   "metadata": {},
   "outputs": [
    {
     "name": "stdout",
     "output_type": "stream",
     "text": [
      "966\n"
     ]
    }
   ],
   "source": [
    "matches_from_id = []\n",
    "matches_from_titles = []\n",
    "matches_from_close_titles = []\n",
    "done_been_matched_td = []\n",
    "done_been_matched_tu = []\n",
    "dupes = []\n",
    "\n",
    "matched_titles = []\n",
    "\n",
    "for a in tdid:\n",
    "    for b in tuid:\n",
    "        if a[-1]:\n",
    "            if a[-1] == b[-1]:\n",
    "                match = [a[0], b[0], a[-1], b[-1], a[1], b[1]]\n",
    "                matches_from_id.append(match)\n",
    "                done_been_matched_td.append(a)\n",
    "                done_been_matched_tu.append(b)\n",
    "                if a[0] in matched_titles:\n",
    "                    dupes.append(a[0])\n",
    "                matched_titles.append(a[0])\n",
    "                break\n",
    "            \n",
    "            \n",
    "print(len(matches_from_id))"
   ]
  },
  {
   "cell_type": "code",
   "execution_count": 110,
   "metadata": {},
   "outputs": [
    {
     "name": "stdout",
     "output_type": "stream",
     "text": [
      "427\n"
     ]
    }
   ],
   "source": [
    "not_yet_matched_td = [x for x in tdid if x not in done_been_matched_td]\n",
    "not_yet_matched_tu = [x for x in tuid if x not in done_been_matched_tu]\n",
    "\n",
    "for a in not_yet_matched_td:\n",
    "    for b in not_yet_matched_tu:\n",
    "        if a[0] == b[0]:\n",
    "            match = [a[0], b[0], a[-1], b[-1], a[1], b[1]]\n",
    "            matches_from_titles.append(match)\n",
    "            done_been_matched_td.append(a)\n",
    "            done_been_matched_tu.append(b)\n",
    "            if a[0] in matched_titles:\n",
    "                dupes.append(a[0])\n",
    "            matched_titles.append(a[0])\n",
    "            break\n",
    "            \n",
    "print(len(matches_from_titles))"
   ]
  },
  {
   "cell_type": "code",
   "execution_count": 111,
   "metadata": {},
   "outputs": [
    {
     "name": "stdout",
     "output_type": "stream",
     "text": [
      "2\n"
     ]
    }
   ],
   "source": [
    "not_yet_matched_still_td = [x for x in not_yet_matched_td if x not in done_been_matched_td]\n",
    "not_yet_matched_still_tu = [x for x in not_yet_matched_tu if x not in done_been_matched_tu]\n",
    "            \n",
    "for a in not_yet_matched_still_td:\n",
    "    for b in not_yet_matched_still_tu:\n",
    "        if fuzz.ratio(a[0], b[0]) >= 95:\n",
    "            match = [a[0], b[0], a[-1], b[-1], a[1], b[1]]\n",
    "            matches_from_close_titles.append(match)\n",
    "            done_been_matched_td.append(a)\n",
    "            done_been_matched_tu.append(b)\n",
    "            if a[0] in matched_titles:\n",
    "                dupes.append(a[0])\n",
    "            matched_titles.append(a[0])\n",
    "            break\n",
    "            \n",
    "print(len(matches_from_close_titles))"
   ]
  },
  {
   "cell_type": "code",
   "execution_count": 108,
   "metadata": {},
   "outputs": [
    {
     "name": "stdout",
     "output_type": "stream",
     "text": [
      "['Carbon Monoxide Packaging for Fresh Pork', 'Carbon Monoxide Packaging for Fresh Pork', 'ASL R1848', 'ASL R1848', 'https://doi.org/10.31274/ans_air-180814-70', 'https://www.iastatedigitalpress.com/air/article/id/6401/']\n",
      "['Update from Animal Science Teaching Section', 'Update from Animal Science Teaching Section', '', '', 'https://doi.org/10.31274/ans_air-180814-764', 'https://www.iastatedigitalpress.com/air/article/id/6054/']\n",
      "[['Comparisonof an Experimental Teat Sealant vs. Commercial Dry Period Barrier Teat Sealant Dipon Teat Coverage Persistency and Teat Health', 'Comparison of an Experimental Teat Sealant vs. Commercial Dry Period Barrier Teat Sealant Dipon Teat Coverage Persistency and Teat Health', '', '', 'https://doi.org/10.31274/ans_air-180814-383', 'https://www.iastatedigitalpress.com/air/article/id/5945/'], ['Pigs Can Be Selected forIncreased Natural Resistance to PRRS Without Affecting Overall Economic Value in the Absence ofPRRS', 'Pigs Can Be Selected for Increased Natural Resistance to PRRS Without Affecting Overall Economic Value in the Absence ofPRRS', '', '', 'https://doi.org/10.31274/ans_air-180814-378', 'https://www.iastatedigitalpress.com/air/article/id/5919/']]\n",
      "1395\n"
     ]
    }
   ],
   "source": [
    "print(matches_from_id[0])\n",
    "print(matches_from_titles[0])\n",
    "print(matches_from_close_titles)\n",
    "print(len(dupes))"
   ]
  },
  {
   "cell_type": "code",
   "execution_count": 114,
   "metadata": {},
   "outputs": [],
   "source": [
    "all_matches = matches_from_id + matches_from_titles + matches_from_close_titles\n",
    "\n",
    "with open(\"all_matched_up.json\", \"w\", encoding=\"utf8\") as fh:\n",
    "    json.dump(all_matches, fh, indent=4)"
   ]
  },
  {
   "cell_type": "code",
   "execution_count": null,
   "metadata": {},
   "outputs": [],
   "source": []
  }
 ],
 "metadata": {
  "kernelspec": {
   "display_name": "Python 3",
   "language": "python",
   "name": "python3"
  },
  "language_info": {
   "codemirror_mode": {
    "name": "ipython",
    "version": 3
   },
   "file_extension": ".py",
   "mimetype": "text/x-python",
   "name": "python",
   "nbconvert_exporter": "python",
   "pygments_lexer": "ipython3",
   "version": "3.8.0"
  }
 },
 "nbformat": 4,
 "nbformat_minor": 4
}
